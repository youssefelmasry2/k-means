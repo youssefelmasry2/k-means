{
 "cells": [
  {
   "cell_type": "code",
   "execution_count": null,
   "id": "febf0221-0054-44a9-8c97-7e0038d7a951",
   "metadata": {},
   "outputs": [],
   "source": [
    "import pandas as pd\n",
    "import numpy as np\n",
    "import matplotlib.pyplot as plt\n",
    "from sklearn.cluster import KMeans\n",
    "from apyori import apriori\n",
    "\n",
    "DataSetPath=input('enter data set path of csv file')\n",
    "Data=pd.read_csv(DataSetPath)\n",
    "Data.head()"
   ]
  },
  {
   "cell_type": "code",
   "execution_count": null,
   "id": "c7c5b280-ca65-4a7d-ba88-122357aef017",
   "metadata": {},
   "outputs": [],
   "source": [
    "x=Data.iloc[:,[2,5]].values\n",
    "inertias=[]\n",
    "for i in range(1,11):\n",
    " Kmeans =KMeans(n_clusters=i)\n",
    " Kmeans.fit(x)\n",
    " inertias.append(Kmeans.inertia_)\n",
    "plt.plot(inertias,marker='o')    \n",
    "plt.title('elbow method')\n",
    "plt.xlabel('number of clusters')\n",
    "plt.ylabel('inertia')\n",
    "plt.show()"
   ]
  },
  {
   "cell_type": "code",
   "execution_count": 3,
   "id": "0aa4c514-605f-4c22-a533-f4e92ae88aa7",
   "metadata": {},
   "outputs": [
    {
     "name": "stdin",
     "output_type": "stream",
     "text": [
      "enter number of cluster between 2 and 4 3\n",
      "enter min support between 0.001 and 1 0.0045\n",
      "enter min confidence between 0.001 and 1 0.2\n"
     ]
    }
   ],
   "source": [
    "NumberOfCluster=int(input('enter number of cluster between 2 and 4'))\n",
    "MinSupport=float(input('enter min support between 0.001 and 1'))\n",
    "MinConfendence=float(input('enter min confidence between 0.001 and 1'))"
   ]
  },
  {
   "cell_type": "code",
   "execution_count": 4,
   "id": "64272ad1-9164-40ff-8f64-e371c32cb5d7",
   "metadata": {},
   "outputs": [
    {
     "name": "stdout",
     "output_type": "stream",
     "text": [
      "[2 0 1 ... 1 1 0]\n"
     ]
    }
   ],
   "source": [
    "Kmeans=KMeans(n_clusters=NumberOfCluster,init='k-means++')\n",
    "N_Kmeans=Kmeans.fit_predict(x)\n",
    "print(N_Kmeans)"
   ]
  },
  {
   "cell_type": "code",
   "execution_count": 5,
   "id": "4af90e22-63f0-4e09-9d6a-f20289c4bd96",
   "metadata": {},
   "outputs": [
    {
     "data": {
      "text/html": [
       "<div>\n",
       "<style scoped>\n",
       "    .dataframe tbody tr th:only-of-type {\n",
       "        vertical-align: middle;\n",
       "    }\n",
       "\n",
       "    .dataframe tbody tr th {\n",
       "        vertical-align: top;\n",
       "    }\n",
       "\n",
       "    .dataframe thead th {\n",
       "        text-align: right;\n",
       "    }\n",
       "</style>\n",
       "<table border=\"1\" class=\"dataframe\">\n",
       "  <thead>\n",
       "    <tr style=\"text-align: right;\">\n",
       "      <th></th>\n",
       "      <th>total</th>\n",
       "      <th>customer</th>\n",
       "      <th>age</th>\n",
       "      <th>0</th>\n",
       "    </tr>\n",
       "  </thead>\n",
       "  <tbody>\n",
       "    <tr>\n",
       "      <th>0</th>\n",
       "      <td>1612</td>\n",
       "      <td>Maged</td>\n",
       "      <td>60</td>\n",
       "      <td>2</td>\n",
       "    </tr>\n",
       "    <tr>\n",
       "      <th>1</th>\n",
       "      <td>509</td>\n",
       "      <td>Eman</td>\n",
       "      <td>23</td>\n",
       "      <td>0</td>\n",
       "    </tr>\n",
       "    <tr>\n",
       "      <th>2</th>\n",
       "      <td>2084</td>\n",
       "      <td>Rania</td>\n",
       "      <td>37</td>\n",
       "      <td>1</td>\n",
       "    </tr>\n",
       "    <tr>\n",
       "      <th>3</th>\n",
       "      <td>788</td>\n",
       "      <td>Rania</td>\n",
       "      <td>37</td>\n",
       "      <td>0</td>\n",
       "    </tr>\n",
       "    <tr>\n",
       "      <th>4</th>\n",
       "      <td>1182</td>\n",
       "      <td>Magdy</td>\n",
       "      <td>36</td>\n",
       "      <td>2</td>\n",
       "    </tr>\n",
       "    <tr>\n",
       "      <th>...</th>\n",
       "      <td>...</td>\n",
       "      <td>...</td>\n",
       "      <td>...</td>\n",
       "      <td>...</td>\n",
       "    </tr>\n",
       "    <tr>\n",
       "      <th>9830</th>\n",
       "      <td>2048</td>\n",
       "      <td>Farida</td>\n",
       "      <td>22</td>\n",
       "      <td>1</td>\n",
       "    </tr>\n",
       "    <tr>\n",
       "      <th>9831</th>\n",
       "      <td>1912</td>\n",
       "      <td>Adel</td>\n",
       "      <td>50</td>\n",
       "      <td>1</td>\n",
       "    </tr>\n",
       "    <tr>\n",
       "      <th>9832</th>\n",
       "      <td>2482</td>\n",
       "      <td>Farida</td>\n",
       "      <td>22</td>\n",
       "      <td>1</td>\n",
       "    </tr>\n",
       "    <tr>\n",
       "      <th>9833</th>\n",
       "      <td>2101</td>\n",
       "      <td>Adel</td>\n",
       "      <td>50</td>\n",
       "      <td>1</td>\n",
       "    </tr>\n",
       "    <tr>\n",
       "      <th>9834</th>\n",
       "      <td>346</td>\n",
       "      <td>Hanan</td>\n",
       "      <td>22</td>\n",
       "      <td>0</td>\n",
       "    </tr>\n",
       "  </tbody>\n",
       "</table>\n",
       "<p>9835 rows × 4 columns</p>\n",
       "</div>"
      ],
      "text/plain": [
       "      total customer  age  0\n",
       "0      1612    Maged   60  2\n",
       "1       509     Eman   23  0\n",
       "2      2084    Rania   37  1\n",
       "3       788    Rania   37  0\n",
       "4      1182    Magdy   36  2\n",
       "...     ...      ...  ... ..\n",
       "9830   2048   Farida   22  1\n",
       "9831   1912     Adel   50  1\n",
       "9832   2482   Farida   22  1\n",
       "9833   2101     Adel   50  1\n",
       "9834    346    Hanan   22  0\n",
       "\n",
       "[9835 rows x 4 columns]"
      ]
     },
     "execution_count": 5,
     "metadata": {},
     "output_type": "execute_result"
    }
   ],
   "source": [
    "pd.concat([Data[Data.columns[2]],Data[Data.columns[4]],Data[Data.columns[5]],pd.DataFrame(N_Kmeans)],axis=1)"
   ]
  },
  {
   "cell_type": "code",
   "execution_count": 6,
   "id": "97f64787-ec4e-4171-b674-b7420eff5920",
   "metadata": {},
   "outputs": [
    {
     "data": {
      "text/plain": [
       "Text(0, 0.5, 'age')"
      ]
     },
     "execution_count": 6,
     "metadata": {},
     "output_type": "execute_result"
    },
    {
     "data": {
      "image/png": "[encoded data removed]",
      "text/plain": [
       "<Figure size 432x288 with 1 Axes>"
      ]
     },
     "metadata": {
      "needs_background": "light"
     },
     "output_type": "display_data"
    }
   ],
   "source": [
    "plt.scatter(x[N_Kmeans==0,0],x[N_Kmeans==0,1],s=100,c='red')\n",
    "plt.scatter(x[N_Kmeans==1,0],x[N_Kmeans==1,1],s=100,c='green')\n",
    "plt.scatter(x[N_Kmeans==2,0],x[N_Kmeans==2,1],s=100,c='yellow')\n",
    "plt.scatter(x[N_Kmeans==3,0],x[N_Kmeans==3,1],s=100,c='black')\n",
    "plt.xlabel(\"Spending score\")\n",
    "plt.ylabel(\"age\")"
   ]
  },
  {
   "cell_type": "code",
   "execution_count": 7,
   "id": "7cc9816e-9a4c-4df6-91ae-4ad439eb1ccf",
   "metadata": {},
   "outputs": [],
   "source": [
    "records = []\n",
    "for i in range(0, 9835):\n",
    "    records.append([str(Data.values[i,j]) for j in range(0, 4)])\n",
    "new_records=[]\n",
    "temp=[]\n",
    "for i in range(0,9835):\n",
    "    for j in range(0,len(records[i])):\n",
    "        if records[i][j]!='nan':\n",
    "         temp.append(records[i][j])\n",
    "    new_records.append(temp)\n",
    "    temp=[]\n",
    "\n",
    "del records\n",
    "del temp"
   ]
  },
  {
   "cell_type": "code",
   "execution_count": 11,
   "id": "eeaddb4b-f5f3-4fbe-8943-5c5c359cd184",
   "metadata": {},
   "outputs": [
    {
     "name": "stdout",
     "output_type": "stream",
     "text": [
      "<generator object apriori at 0x000002ED00054F90>\n"
     ]
    },
    {
     "data": {
      "text/plain": [
       "9"
      ]
     },
     "execution_count": 11,
     "metadata": {},
     "output_type": "execute_result"
    }
   ],
   "source": [
    "association_rules=apriori(new_records,min_support=MinSupport,min_confidence=MinConfendence,min_lift=3,min_length=2)\n",
    "association_results=list(association_rules)\n",
    "print(association_rules)\n",
    "len(association_results)"
   ]
  },
  {
   "cell_type": "code",
   "execution_count": 9,
   "id": "a4f3f19b-07c9-4f4a-a0ac-29f679cb3000",
   "metadata": {},
   "outputs": [
    {
     "name": "stdout",
     "output_type": "stream",
     "text": [
      "RelationRecord(items=frozenset({'1', 'bottled beer'}), support=0.012201321809862735, ordered_statistics=[OrderedStatistic(items_base=frozenset({'bottled beer'}), items_add=frozenset({'1'}), confidence=1.0, lift=3.7127217818044542)])\n"
     ]
    }
   ],
   "source": [
    "print(association_results[0])"
   ]
  },
  {
   "cell_type": "code",
   "execution_count": 10,
   "id": "397cf520-37a3-4626-b697-772f44054b98",
   "metadata": {},
   "outputs": [
    {
     "name": "stdout",
     "output_type": "stream",
     "text": [
      "Rule: 1 -> bottled beer\n",
      "Support: 0.012201321809862735\n",
      "Confidence: 1.0\n",
      "Lift: 3.7127217818044542\n",
      "=====================================\n",
      "Rule: bottled water -> 1\n",
      "Support: 0.00681240467717336\n",
      "Confidence: 1.0\n",
      "Lift: 3.7127217818044542\n",
      "=====================================\n",
      "Rule: 1 -> canned beer\n",
      "Support: 0.026436197254702594\n",
      "Confidence: 1.0\n",
      "Lift: 3.7127217818044542\n",
      "=====================================\n",
      "Rule: newspapers -> 1\n",
      "Support: 0.005490594814438231\n",
      "Confidence: 1.0\n",
      "Lift: 3.7127217818044542\n",
      "=====================================\n",
      "Rule: other vegetables -> 1\n",
      "Support: 0.00630401626842908\n",
      "Confidence: 1.0\n",
      "Lift: 3.7127217818044542\n",
      "=====================================\n",
      "Rule: rolls/buns -> 1\n",
      "Support: 0.011082867310625319\n",
      "Confidence: 1.0\n",
      "Lift: 3.7127217818044542\n",
      "=====================================\n",
      "Rule: shopping bags -> 1\n",
      "Support: 0.004880528723945094\n",
      "Confidence: 1.0\n",
      "Lift: 3.7127217818044542\n",
      "=====================================\n",
      "Rule: soda -> 1\n",
      "Support: 0.015861718352821557\n",
      "Confidence: 1.0\n",
      "Lift: 3.7127217818044542\n",
      "=====================================\n",
      "Rule: whole milk -> 1\n",
      "Support: 0.012302999491611592\n",
      "Confidence: 1.0\n",
      "Lift: 3.7127217818044542\n",
      "=====================================\n"
     ]
    }
   ],
   "source": [
    "\n",
    "for item in association_results:\n",
    "   \n",
    "    pair = item[0] \n",
    "    items = [x for x in pair]\n",
    "    print(\"Rule: \" + items[0] + \" -> \" + items[1])\n",
    "\n",
    "   \n",
    "    print(\"Support: \" + str(item[1]))\n",
    "\n",
    "   \n",
    "\n",
    "    print(\"Confidence: \" + str(item[2][0][2]))\n",
    "    print(\"Lift: \" + str(item[2][0][3]))\n",
    "    print(\"=====================================\")"
   ]
  },
  {
   "cell_type": "code",
   "execution_count": null,
   "id": "733b9ee9-be25-4f36-b45b-ef76d3d82776",
   "metadata": {},
   "outputs": [],
   "source": []
  }
 ],
 "metadata": {
  "kernelspec": {
   "display_name": "Python 3 (ipykernel)",
   "language": "python",
   "name": "python3"
  },
  "language_info": {
   "codemirror_mode": {
    "name": "ipython",
    "version": 3
   },
   "file_extension": ".py",
   "mimetype": "text/x-python",
   "name": "python",
   "nbconvert_exporter": "python",
   "pygments_lexer": "ipython3",
   "version": "3.9.12"
  }
 },
 "nbformat": 4,
 "nbformat_minor": 5
}
